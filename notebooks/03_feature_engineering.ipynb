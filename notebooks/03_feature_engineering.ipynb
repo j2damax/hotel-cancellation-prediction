{
 "cells": [
  {
   "cell_type": "markdown",
   "id": "d39de6bf",
   "metadata": {},
   "source": [
    "# Feature Engineering Analysis - Hotel Booking Cancellation Prediction\n",
    "## Academic Research Framework - NIB 7072 Coursework\n",
    "\n",
    "**Research Objective:** Comprehensive feature engineering analysis for enhancing hotel booking cancellation prediction accuracy.\n",
    "\n",
    "**Academic Context:** This notebook implements and analyzes the feature engineering strategies defined in features.md, focusing on domain-driven feature creation and categorical encoding optimization.\n",
    "\n",
    "**Key Areas:**\n",
    "- Advanced categorical encoding strategies (mean target encoding)\n",
    "- Temporal and seasonal feature engineering\n",
    "- Guest behavior and composition features\n",
    "- Financial and revenue optimization features\n",
    "- Risk assessment and booking pattern features"
   ]
  },
  {
   "cell_type": "markdown",
   "id": "78ab4288",
   "metadata": {},
   "source": [
    "## 🛠️ Environment Setup"
   ]
  },
  {
   "cell_type": "code",
   "execution_count": null,
   "id": "c79f7fec",
   "metadata": {},
   "outputs": [],
   "source": [
    "# Core data manipulation\n",
    "import pandas as pd\n",
    "import numpy as np\n",
    "from datetime import datetime, timedelta, date\n",
    "import calendar\n",
    "\n",
    "# Statistical analysis and feature selection\n",
    "from scipy import stats\n",
    "from scipy.stats import chi2_contingency\n",
    "from sklearn.feature_selection import mutual_info_classif, SelectKBest, f_classif\n",
    "from sklearn.preprocessing import StandardScaler, LabelEncoder, MinMaxScaler\n",
    "from sklearn.model_selection import KFold\n",
    "\n",
    "# Advanced feature engineering\n",
    "from sklearn.decomposition import PCA\n",
    "from sklearn.cluster import KMeans\n",
    "from sklearn.preprocessing import PolynomialFeatures\n",
    "\n",
    "# Visualization\n",
    "import matplotlib.pyplot as plt\n",
    "import seaborn as sns\n",
    "import plotly.express as px\n",
    "import plotly.graph_objects as go\n",
    "\n",
    "# Suppress warnings\n",
    "import warnings\n",
    "warnings.filterwarnings('ignore')\n",
    "\n",
    "print(\"✅ Feature engineering environment setup completed\")"
   ]
  },
  {
   "cell_type": "markdown",
   "id": "feb778ad",
   "metadata": {},
   "source": [
    "## 📊 Load Preprocessed Data"
   ]
  },
  {
   "cell_type": "code",
   "execution_count": null,
   "id": "d9ea7bfe",
   "metadata": {},
   "outputs": [],
   "source": [
    "# Load preprocessed data from previous stage\n",
    "preprocessed_path = \"../data/processed/hotel_bookings_preprocessed.csv\"\n",
    "\n",
    "try:\n",
    "    df_processed = pd.read_csv(preprocessed_path)\n",
    "    print(f\"✅ Preprocessed dataset loaded: {df_processed.shape}\")\n",
    "    \n",
    "    # Data overview\n",
    "    print(f\"\\n📊 PREPROCESSED DATA OVERVIEW:\")\n",
    "    print(f\"Rows: {df_processed.shape[0]:,}\")\n",
    "    print(f\"Columns: {df_processed.shape[1]}\")\n",
    "    print(f\"Cancellation rate: {df_processed['is_canceled'].mean():.3f}\")\n",
    "    \n",
    "except FileNotFoundError:\n",
    "    print(\"⚠️ Preprocessed dataset not found.\")\n",
    "    print(\"Creating sample preprocessed data for demonstration...\")\n",
    "    \n",
    "    # Create sample preprocessed data\n",
    "    np.random.seed(42)\n",
    "    n_samples = 5000\n",
    "    \n",
    "    df_processed = pd.DataFrame({\n",
    "        'is_canceled': np.random.choice([0, 1], n_samples, p=[0.67, 0.33]),\n",
    "        'lead_time': np.random.randint(0, 400, n_samples),\n",
    "        'stays_in_weekend_nights': np.random.randint(0, 5, n_samples),\n",
    "        'stays_in_week_nights': np.random.randint(0, 20, n_samples),\n",
    "        'adults': np.random.choice([1, 2, 3, 4], n_samples, p=[0.3, 0.5, 0.15, 0.05]),\n",
    "        'children': np.random.choice([0, 1, 2], n_samples, p=[0.7, 0.25, 0.05]),\n",
    "        'babies': np.random.choice([0, 1], n_samples, p=[0.9, 0.1]),\n",
    "        'adr': np.random.uniform(20, 400, n_samples),\n",
    "        'hotel': np.random.choice(['Resort Hotel', 'City Hotel'], n_samples),\n",
    "        'meal': np.random.choice(['BB', 'HB', 'FB', 'SC'], n_samples),\n",
    "        'market_segment': np.random.choice(['Online TA', 'Offline TA/TO', 'Groups', 'Direct', 'Corporate'], n_samples),\n",
    "        'arrival_date_month': np.random.choice(range(1, 13), n_samples)\n",
    "    })\n",
    "    print(f\"Sample preprocessed dataset created: {df_processed.shape}\")"
   ]
  },
  {
   "cell_type": "markdown",
   "id": "e5e97cf7",
   "metadata": {},
   "source": [
    "## 🎯 Advanced Categorical Encoding Analysis\n",
    "\n",
    "Implementation and comparison of categorical encoding strategies including mean target encoding."
   ]
  },
  {
   "cell_type": "code",
   "execution_count": null,
   "id": "6d353760",
   "metadata": {},
   "outputs": [],
   "source": [
    "# Mean target encoding implementation\n",
    "print(\"🎯 MEAN TARGET ENCODING ANALYSIS:\")\n",
    "\n",
    "# Identify categorical columns\n",
    "categorical_columns = df_processed.select_dtypes(include=['object']).columns.tolist()\n",
    "if 'is_canceled' in categorical_columns:\n",
    "    categorical_columns.remove('is_canceled')\n",
    "\n",
    "print(f\"Categorical columns identified: {categorical_columns}\")\n",
    "\n",
    "# Implement mean target encoding functions from features.md\n",
    "# This will be expanded with the comprehensive encoding implementation\n",
    "\n",
    "print(\"Mean target encoding functions to be implemented...\")"
   ]
  },
  {
   "cell_type": "markdown",
   "id": "7e59dbce",
   "metadata": {},
   "source": [
    "## ⏰ Temporal Feature Engineering\n",
    "\n",
    "Creating comprehensive temporal and seasonal features for enhanced prediction."
   ]
  },
  {
   "cell_type": "code",
   "execution_count": null,
   "id": "42c4c4c0",
   "metadata": {},
   "outputs": [],
   "source": [
    "# Temporal feature engineering\n",
    "print(\"⏰ TEMPORAL FEATURE ENGINEERING:\")\n",
    "\n",
    "# Create basic temporal features\n",
    "if 'arrival_date_month' in df_processed.columns:\n",
    "    # Season mapping\n",
    "    season_map = {12: 'Winter', 1: 'Winter', 2: 'Winter',\n",
    "                  3: 'Spring', 4: 'Spring', 5: 'Spring',\n",
    "                  6: 'Summer', 7: 'Summer', 8: 'Summer',\n",
    "                  9: 'Autumn', 10: 'Autumn', 11: 'Autumn'}\n",
    "    \n",
    "    df_enhanced = df_processed.copy()\n",
    "    df_enhanced['season'] = df_enhanced['arrival_date_month'].map(season_map)\n",
    "    \n",
    "    print(f\"✅ Season feature created\")\n",
    "    print(f\"Season distribution:\")\n",
    "    print(df_enhanced['season'].value_counts())\n",
    "    \n",
    "    # Seasonal cancellation analysis\n",
    "    seasonal_cancel = df_enhanced.groupby('season')['is_canceled'].agg(['mean', 'count'])\n",
    "    print(f\"\\nSeasonal cancellation rates:\")\n",
    "    print(seasonal_cancel)\n",
    "\n",
    "# More temporal features will be added based on features.md\n",
    "print(\"\\nAdditional temporal features to be implemented...\")"
   ]
  },
  {
   "cell_type": "markdown",
   "id": "f0c81ff8",
   "metadata": {},
   "source": [
    "## 👥 Guest Behavior Features\n",
    "\n",
    "Engineering features related to guest composition and behavior patterns."
   ]
  },
  {
   "cell_type": "code",
   "execution_count": null,
   "id": "9ce40a56",
   "metadata": {},
   "outputs": [],
   "source": [
    "# Guest behavior feature engineering\n",
    "print(\"👥 GUEST BEHAVIOR FEATURE ENGINEERING:\")\n",
    "\n",
    "# Basic guest composition features\n",
    "if all(col in df_processed.columns for col in ['adults', 'children', 'babies']):\n",
    "    df_enhanced['total_guests'] = df_processed['adults'] + df_processed['children'] + df_processed['babies']\n",
    "    df_enhanced['is_family'] = ((df_processed['children'] > 0) | (df_processed['babies'] > 0)).astype(int)\n",
    "    df_enhanced['adults_to_children_ratio'] = df_processed['adults'] / (df_processed['children'] + df_processed['babies'] + 1)\n",
    "    \n",
    "    print(f\"✅ Guest composition features created\")\n",
    "    print(f\"Family booking rate: {df_enhanced['is_family'].mean():.3f}\")\n",
    "    \n",
    "    # Family vs non-family cancellation analysis\n",
    "    family_analysis = df_enhanced.groupby('is_family')['is_canceled'].agg(['mean', 'count'])\n",
    "    print(f\"\\nFamily booking cancellation analysis:\")\n",
    "    print(family_analysis)\n",
    "\n",
    "# Additional guest behavior features will be added\n",
    "print(\"\\nAdditional guest behavior features to be implemented...\")"
   ]
  },
  {
   "cell_type": "markdown",
   "id": "912ac83a",
   "metadata": {},
   "source": [
    "## 📈 Next Steps\n",
    "\n",
    "This notebook will be expanded to include:\n",
    "\n",
    "- **Financial Features:** Revenue and pricing optimization features\n",
    "- **Risk Assessment Features:** Booking pattern and cancellation risk features\n",
    "- **Interaction Features:** Cross-feature combinations and polynomial features\n",
    "- **Feature Selection:** Statistical and model-based feature importance\n",
    "- **Feature Validation:** Performance impact analysis\n",
    "- **Export Enhanced Dataset:** Final feature-engineered dataset\n",
    "\n",
    "*Continue implementing based on the comprehensive features.md instructions.*"
   ]
  }
 ],
 "metadata": {
  "language_info": {
   "name": "python"
  }
 },
 "nbformat": 4,
 "nbformat_minor": 5
}
